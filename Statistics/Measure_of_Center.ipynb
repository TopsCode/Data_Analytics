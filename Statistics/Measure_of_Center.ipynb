{
  "nbformat": 4,
  "nbformat_minor": 0,
  "metadata": {
    "colab": {
      "name": "Measure_of_Center.ipynb",
      "version": "0.3.2",
      "provenance": []
    },
    "kernelspec": {
      "name": "python3",
      "display_name": "Python 3"
    }
  },
  "cells": [
    {
      "cell_type": "markdown",
      "metadata": {
        "id": "gmHVVuCdiHnl",
        "colab_type": "text"
      },
      "source": [
        "# Measure of Center\n",
        "\n",
        "---\n",
        "\n"
      ]
    },
    {
      "cell_type": "code",
      "metadata": {
        "id": "Cs6hAcU2h5NT",
        "colab_type": "code",
        "colab": {}
      },
      "source": [
        "import numpy as np\n",
        "x=[2,4,6,7,20,10,22]\n",
        "y=np.array(x)"
      ],
      "execution_count": 0,
      "outputs": []
    },
    {
      "cell_type": "markdown",
      "metadata": {
        "id": "v0B8j5IsiDL7",
        "colab_type": "text"
      },
      "source": [
        "# Mean:\n",
        "\n",
        "---\n",
        "\n"
      ]
    },
    {
      "cell_type": "code",
      "metadata": {
        "id": "oYOWjwMviCLm",
        "colab_type": "code",
        "colab": {
          "base_uri": "https://localhost:8080/",
          "height": 34
        },
        "outputId": "1a7c27be-63e3-4423-cfad-da76e679bf10"
      },
      "source": [
        "print(\"Mean is : \",y.mean())"
      ],
      "execution_count": 3,
      "outputs": [
        {
          "output_type": "stream",
          "text": [
            "Mean is :  10.142857142857142\n"
          ],
          "name": "stdout"
        }
      ]
    },
    {
      "cell_type": "markdown",
      "metadata": {
        "id": "0IpYCciHiQKX",
        "colab_type": "text"
      },
      "source": [
        "# Median:\n",
        "\n",
        "---\n",
        "\n"
      ]
    },
    {
      "cell_type": "code",
      "metadata": {
        "id": "ZRjbvMUoiM9U",
        "colab_type": "code",
        "colab": {
          "base_uri": "https://localhost:8080/",
          "height": 34
        },
        "outputId": "4ee89fc5-f940-4595-afd3-d95b90ac2663"
      },
      "source": [
        "print(\"Median is : \",np.median(y))"
      ],
      "execution_count": 4,
      "outputs": [
        {
          "output_type": "stream",
          "text": [
            "Median is :  7.0\n"
          ],
          "name": "stdout"
        }
      ]
    },
    {
      "cell_type": "markdown",
      "metadata": {
        "id": "Q3hBUZmEiYCh",
        "colab_type": "text"
      },
      "source": [
        "# Mode:\n",
        "\n",
        "---\n"
      ]
    },
    {
      "cell_type": "code",
      "metadata": {
        "id": "k-wIC7j_iPdR",
        "colab_type": "code",
        "colab": {
          "base_uri": "https://localhost:8080/",
          "height": 34
        },
        "outputId": "1cb99ae2-a249-4b9a-ab13-f344cd7dc583"
      },
      "source": [
        "from statistics import mode\n",
        "print(\"Mode is:\",mode([1, 1, 2, 3, 3, 3, 3, 4]))"
      ],
      "execution_count": 5,
      "outputs": [
        {
          "output_type": "stream",
          "text": [
            "Mode is: 3\n"
          ],
          "name": "stdout"
        }
      ]
    }
  ]
}
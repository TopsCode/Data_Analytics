{
  "nbformat": 4,
  "nbformat_minor": 0,
  "metadata": {
    "colab": {
      "name": "Z-Test.ipynb",
      "version": "0.3.2",
      "provenance": []
    },
    "kernelspec": {
      "name": "python3",
      "display_name": "Python 3"
    }
  },
  "cells": [
    {
      "cell_type": "code",
      "metadata": {
        "id": "AfRng3KPuSBQ",
        "colab_type": "code",
        "colab": {
          "base_uri": "https://localhost:8080/",
          "height": 51
        },
        "outputId": "01b490f3-42b4-410f-ff53-bd9bf782e0d6"
      },
      "source": [
        "def twoSampZ(X1, X2, mudiff, sd1, sd2, n1, n2):\n",
        "    from numpy import sqrt, abs, round\n",
        "    from scipy.stats import norm\n",
        "    pooledSE = sqrt(sd1**2/n1 + sd2**2/n2)\n",
        "    z = ((X1 - X2) - mudiff)/pooledSE\n",
        "    pval = 2*(1 - norm.cdf(abs(z)))\n",
        "    return round(z, 3), round(pval, 4)\n",
        "\n",
        "\n",
        "\n",
        "z, p = twoSampZ(28, 33, 0, 14.1, 9.5, 75, 50)\n",
        "print(\"Z Score:\",z)\n",
        "print(\"P-Value:\",p)"
      ],
      "execution_count": 2,
      "outputs": [
        {
          "output_type": "stream",
          "text": [
            "Z Score: -2.369\n",
            "P-Value: 0.0179\n"
          ],
          "name": "stdout"
        }
      ]
    }
  ]
}
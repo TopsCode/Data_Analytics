{
  "nbformat": 4,
  "nbformat_minor": 0,
  "metadata": {
    "colab": {
      "name": "Probability.ipynb",
      "version": "0.3.2",
      "provenance": []
    },
    "kernelspec": {
      "name": "python3",
      "display_name": "Python 3"
    }
  },
  "cells": [
    {
      "cell_type": "code",
      "metadata": {
        "id": "tFQ4bdA53nVF",
        "colab_type": "code",
        "colab": {}
      },
      "source": [
        "%matplotlib inline"
      ],
      "execution_count": 0,
      "outputs": []
    },
    {
      "cell_type": "markdown",
      "metadata": {
        "id": "jsmjmvb8Dlu9",
        "colab_type": "text"
      },
      "source": [
        "# Example 1:\n",
        "\n",
        "---\n",
        "\n"
      ]
    },
    {
      "cell_type": "code",
      "metadata": {
        "id": "z7E8ErzD3nVQ",
        "colab_type": "code",
        "colab": {
          "base_uri": "https://localhost:8080/",
          "height": 34
        },
        "outputId": "87112d28-3763-4197-a925-6664a9d86dc0"
      },
      "source": [
        "# Sample Space\n",
        "cards = 52\n",
        "\n",
        "# Outcomes\n",
        "aces = 4\n",
        "\n",
        "\n",
        "# Divide possible outcomes by the sample set\n",
        "ace_probability = aces / cards\n",
        "\n",
        "# Print probability rounded to two decimal places\n",
        "print(\"Probability of getting aces:\", round(ace_probability, 2))"
      ],
      "execution_count": 4,
      "outputs": [
        {
          "output_type": "stream",
          "text": [
            "Probability of getting aces: 0.08\n"
          ],
          "name": "stdout"
        }
      ]
    },
    {
      "cell_type": "markdown",
      "metadata": {
        "id": "2BZQV1rQDqIK",
        "colab_type": "text"
      },
      "source": [
        "# Example2:\n",
        "\n",
        "---\n",
        "\n"
      ]
    },
    {
      "cell_type": "code",
      "metadata": {
        "id": "V2Z-QhdeDvu2",
        "colab_type": "code",
        "colab": {
          "base_uri": "https://localhost:8080/",
          "height": 34
        },
        "outputId": "33a30ded-8c60-4f30-ef41-08e8c3392078"
      },
      "source": [
        "# Sample Space\n",
        "cards = 52\n",
        "\n",
        "# Determine the probability of drawing a heart\n",
        "hearts = 13\n",
        "hearts_probability = hearts/cards\n",
        "\n",
        "print(\"Probability of getting hearts:\", round(hearts_probability,2))"
      ],
      "execution_count": 6,
      "outputs": [
        {
          "output_type": "stream",
          "text": [
            "Probability of getting hearts: 0.25\n"
          ],
          "name": "stdout"
        }
      ]
    },
    {
      "cell_type": "markdown",
      "metadata": {
        "id": "Qjcd3tP4D50s",
        "colab_type": "text"
      },
      "source": [
        "# Example3:\n",
        "\n",
        "---\n",
        "\n"
      ]
    },
    {
      "cell_type": "code",
      "metadata": {
        "id": "T28jnb3VEMC_",
        "colab_type": "code",
        "colab": {
          "base_uri": "https://localhost:8080/",
          "height": 68
        },
        "outputId": "5dd53c8c-7a08-4ee3-a999-4f57e66cc650"
      },
      "source": [
        "# Create function that returns probability percent rounded to one decimal place\n",
        "def event_probability(event_outcomes, sample_space):\n",
        "    probability = (event_outcomes / sample_space) * 100\n",
        "    return round(probability, 1)\n",
        "\n",
        "# Sample Space\n",
        "cards = 52\n",
        "\n",
        "# Determine the probability of drawing a heart\n",
        "hearts = 13\n",
        "heart_probability = event_probability(hearts, cards)\n",
        "\n",
        "# Determine the probability of drawing a face card\n",
        "face_cards = 12\n",
        "face_card_probability = event_probability(face_cards, cards)\n",
        "\n",
        "# Determine the probability of drawing the queen of hearts\n",
        "ace_of_hearts = 1\n",
        "ace_of_hearts_probability = event_probability(ace_of_hearts, cards)\n",
        "\n",
        "# Print each probability\n",
        "print(str(heart_probability) + '%')\n",
        "print(str(face_card_probability) + '%')\n",
        "print(str(ace_of_hearts_probability) + '%')"
      ],
      "execution_count": 7,
      "outputs": [
        {
          "output_type": "stream",
          "text": [
            "25.0%\n",
            "23.1%\n",
            "1.9%\n"
          ],
          "name": "stdout"
        }
      ]
    },
    {
      "cell_type": "markdown",
      "metadata": {
        "id": "G6Yh-scfEXBn",
        "colab_type": "text"
      },
      "source": [
        "# Example4: \n",
        "\n",
        "---\n",
        "\n"
      ]
    },
    {
      "cell_type": "code",
      "metadata": {
        "id": "alpEsvVlEfdI",
        "colab_type": "code",
        "colab": {
          "base_uri": "https://localhost:8080/",
          "height": 34
        },
        "outputId": "66f66c7c-e237-47fe-ac4f-dd5c503a2f12"
      },
      "source": [
        "# Sample Space\n",
        "cards = 52\n",
        "hole_cards = 2\n",
        "turn_community_cards = 4\n",
        "cards = cards - (hole_cards + turn_community_cards)\n",
        "\n",
        "# Outcomes\n",
        "diamonds = 13\n",
        "diamonds_drawn = 4\n",
        "# In poker, cards that complete a draw are known as \"outs\"\n",
        "outs = diamonds - diamonds_drawn\n",
        "\n",
        "#Determine river flush probability\n",
        "river_flush_probability = event_probability(outs, cards)\n",
        "print(river_flush_probability)"
      ],
      "execution_count": 8,
      "outputs": [
        {
          "output_type": "stream",
          "text": [
            "19.6\n"
          ],
          "name": "stdout"
        }
      ]
    },
    {
      "cell_type": "code",
      "metadata": {
        "id": "9ieQ1lRWE_Qe",
        "colab_type": "code",
        "colab": {}
      },
      "source": [
        "import pandas as pd"
      ],
      "execution_count": 0,
      "outputs": []
    },
    {
      "cell_type": "code",
      "metadata": {
        "id": "q4s2h12j3nVo",
        "colab_type": "code",
        "colab": {
          "base_uri": "https://localhost:8080/",
          "height": 136
        },
        "outputId": "1440c065-aeb8-4fbe-d1a0-1cfb49c0d875"
      },
      "source": [
        "#Conditional Probability\n",
        "df = pd.DataFrame({'company': ['ford', 'chevy', 'ford', 'ford', 'ford', 'toyota'],\n",
        "                     'model': ['mustang', 'camaro', 'fiesta', 'focus', 'taurus', 'camry'],\n",
        "                     'rating': ['A', 'B', 'C', 'A', 'B', 'B'],\n",
        "                     'type': ['coupe', 'coupe', 'sedan', 'sedan', 'sedan', 'sedan']})\n",
        "print(df)"
      ],
      "execution_count": 11,
      "outputs": [
        {
          "output_type": "stream",
          "text": [
            "  company    model rating   type\n",
            "0    ford  mustang      A  coupe\n",
            "1   chevy   camaro      B  coupe\n",
            "2    ford   fiesta      C  sedan\n",
            "3    ford    focus      A  sedan\n",
            "4    ford   taurus      B  sedan\n",
            "5  toyota    camry      B  sedan\n"
          ],
          "name": "stdout"
        }
      ]
    },
    {
      "cell_type": "code",
      "metadata": {
        "id": "JWjOZ4S73nVy",
        "colab_type": "code",
        "colab": {
          "base_uri": "https://localhost:8080/",
          "height": 102
        },
        "outputId": "1af1ee6b-18e4-4bd5-dd00-07bb5e7c7878"
      },
      "source": [
        "df.groupby('rating').count()['model'] / len(df)"
      ],
      "execution_count": 12,
      "outputs": [
        {
          "output_type": "execute_result",
          "data": {
            "text/plain": [
              "rating\n",
              "A    0.333333\n",
              "B    0.500000\n",
              "C    0.166667\n",
              "Name: model, dtype: float64"
            ]
          },
          "metadata": {
            "tags": []
          },
          "execution_count": 12
        }
      ]
    },
    {
      "cell_type": "code",
      "metadata": {
        "id": "TVDhrdi23nV8",
        "colab_type": "code",
        "colab": {
          "base_uri": "https://localhost:8080/",
          "height": 136
        },
        "outputId": "51c7da88-ce8f-4234-816c-10a266f791f5"
      },
      "source": [
        "(df.groupby(['rating', 'type']).count() / df.groupby('rating').count())['model']"
      ],
      "execution_count": 13,
      "outputs": [
        {
          "output_type": "execute_result",
          "data": {
            "text/plain": [
              "rating  type \n",
              "A       coupe    0.500000\n",
              "        sedan    0.500000\n",
              "B       coupe    0.333333\n",
              "        sedan    0.666667\n",
              "C       sedan    1.000000\n",
              "Name: model, dtype: float64"
            ]
          },
          "metadata": {
            "tags": []
          },
          "execution_count": 13
        }
      ]
    },
    {
      "cell_type": "code",
      "metadata": {
        "id": "963JjEk93nWF",
        "colab_type": "code",
        "colab": {
          "base_uri": "https://localhost:8080/",
          "height": 1000
        },
        "outputId": "251d7268-4488-4e25-92f3-d84f584929fb"
      },
      "source": [
        "#Joint Probability\n",
        "import numpy as np\n",
        "numBins = 10  # number of bins in each dimension\n",
        "data = np.random.randn(100000, 3)  # generate 100000 3-d random data points\n",
        "jointProbs, edges = np.histogramdd(data, bins=numBins)\n",
        "jointProbs /= jointProbs.sum()\n",
        "print(jointProbs)"
      ],
      "execution_count": 14,
      "outputs": [
        {
          "output_type": "stream",
          "text": [
            "[[[0.000e+00 0.000e+00 0.000e+00 0.000e+00 0.000e+00 0.000e+00 0.000e+00\n",
            "   0.000e+00 0.000e+00 0.000e+00]\n",
            "  [0.000e+00 0.000e+00 0.000e+00 0.000e+00 0.000e+00 0.000e+00 0.000e+00\n",
            "   0.000e+00 0.000e+00 0.000e+00]\n",
            "  [0.000e+00 0.000e+00 0.000e+00 0.000e+00 0.000e+00 0.000e+00 0.000e+00\n",
            "   0.000e+00 0.000e+00 0.000e+00]\n",
            "  [0.000e+00 0.000e+00 0.000e+00 0.000e+00 1.000e-05 0.000e+00 1.000e-05\n",
            "   0.000e+00 0.000e+00 0.000e+00]\n",
            "  [0.000e+00 0.000e+00 0.000e+00 1.000e-05 3.000e-05 1.000e-05 0.000e+00\n",
            "   0.000e+00 0.000e+00 0.000e+00]\n",
            "  [0.000e+00 0.000e+00 1.000e-05 1.000e-05 2.000e-05 2.000e-05 0.000e+00\n",
            "   0.000e+00 0.000e+00 0.000e+00]\n",
            "  [0.000e+00 0.000e+00 0.000e+00 1.000e-05 0.000e+00 0.000e+00 0.000e+00\n",
            "   0.000e+00 0.000e+00 0.000e+00]\n",
            "  [0.000e+00 0.000e+00 0.000e+00 0.000e+00 0.000e+00 0.000e+00 0.000e+00\n",
            "   0.000e+00 0.000e+00 0.000e+00]\n",
            "  [0.000e+00 0.000e+00 0.000e+00 0.000e+00 0.000e+00 0.000e+00 0.000e+00\n",
            "   0.000e+00 0.000e+00 0.000e+00]\n",
            "  [0.000e+00 0.000e+00 0.000e+00 0.000e+00 0.000e+00 0.000e+00 0.000e+00\n",
            "   0.000e+00 0.000e+00 0.000e+00]]\n",
            "\n",
            " [[0.000e+00 0.000e+00 0.000e+00 0.000e+00 0.000e+00 0.000e+00 0.000e+00\n",
            "   0.000e+00 0.000e+00 0.000e+00]\n",
            "  [0.000e+00 0.000e+00 1.000e-05 0.000e+00 0.000e+00 0.000e+00 1.000e-05\n",
            "   0.000e+00 0.000e+00 0.000e+00]\n",
            "  [0.000e+00 0.000e+00 0.000e+00 3.000e-05 0.000e+00 2.000e-05 2.000e-05\n",
            "   0.000e+00 0.000e+00 0.000e+00]\n",
            "  [0.000e+00 1.000e-05 4.000e-05 7.000e-05 8.000e-05 1.300e-04 8.000e-05\n",
            "   3.000e-05 0.000e+00 1.000e-05]\n",
            "  [1.000e-05 0.000e+00 2.000e-05 1.100e-04 3.300e-04 1.800e-04 1.200e-04\n",
            "   2.000e-05 1.000e-05 0.000e+00]\n",
            "  [0.000e+00 0.000e+00 3.000e-05 1.500e-04 2.500e-04 3.000e-04 1.400e-04\n",
            "   5.000e-05 3.000e-05 0.000e+00]\n",
            "  [0.000e+00 0.000e+00 3.000e-05 8.000e-05 1.100e-04 1.200e-04 2.000e-05\n",
            "   2.000e-05 0.000e+00 0.000e+00]\n",
            "  [0.000e+00 0.000e+00 0.000e+00 1.000e-05 1.000e-05 6.000e-05 0.000e+00\n",
            "   0.000e+00 0.000e+00 0.000e+00]\n",
            "  [0.000e+00 0.000e+00 0.000e+00 1.000e-05 1.000e-05 0.000e+00 0.000e+00\n",
            "   0.000e+00 0.000e+00 0.000e+00]\n",
            "  [0.000e+00 0.000e+00 0.000e+00 0.000e+00 0.000e+00 0.000e+00 0.000e+00\n",
            "   0.000e+00 0.000e+00 0.000e+00]]\n",
            "\n",
            " [[0.000e+00 0.000e+00 0.000e+00 0.000e+00 0.000e+00 0.000e+00 0.000e+00\n",
            "   0.000e+00 0.000e+00 0.000e+00]\n",
            "  [0.000e+00 0.000e+00 1.000e-05 2.000e-05 4.000e-05 2.000e-05 0.000e+00\n",
            "   0.000e+00 0.000e+00 0.000e+00]\n",
            "  [0.000e+00 0.000e+00 5.000e-05 1.000e-04 3.300e-04 2.700e-04 2.400e-04\n",
            "   3.000e-05 0.000e+00 0.000e+00]\n",
            "  [0.000e+00 1.000e-05 2.700e-04 5.200e-04 1.160e-03 1.340e-03 5.700e-04\n",
            "   9.000e-05 1.000e-05 0.000e+00]\n",
            "  [0.000e+00 4.000e-05 3.200e-04 1.330e-03 2.190e-03 2.260e-03 1.210e-03\n",
            "   2.400e-04 7.000e-05 0.000e+00]\n",
            "  [0.000e+00 2.000e-05 3.800e-04 1.250e-03 2.060e-03 2.070e-03 1.050e-03\n",
            "   3.000e-04 5.000e-05 1.000e-05]\n",
            "  [0.000e+00 4.000e-05 1.700e-04 6.200e-04 1.000e-03 1.090e-03 4.800e-04\n",
            "   1.100e-04 0.000e+00 0.000e+00]\n",
            "  [1.000e-05 2.000e-05 2.000e-05 5.000e-05 2.100e-04 2.000e-04 1.000e-04\n",
            "   1.000e-05 0.000e+00 0.000e+00]\n",
            "  [0.000e+00 0.000e+00 0.000e+00 2.000e-05 3.000e-05 1.000e-05 2.000e-05\n",
            "   1.000e-05 0.000e+00 0.000e+00]\n",
            "  [0.000e+00 0.000e+00 0.000e+00 0.000e+00 0.000e+00 1.000e-05 0.000e+00\n",
            "   0.000e+00 0.000e+00 0.000e+00]]\n",
            "\n",
            " [[0.000e+00 0.000e+00 0.000e+00 1.000e-05 0.000e+00 0.000e+00 0.000e+00\n",
            "   0.000e+00 0.000e+00 0.000e+00]\n",
            "  [0.000e+00 1.000e-05 2.000e-05 1.400e-04 1.400e-04 1.800e-04 1.000e-04\n",
            "   2.000e-05 0.000e+00 0.000e+00]\n",
            "  [0.000e+00 1.000e-05 2.300e-04 6.600e-04 1.380e-03 1.190e-03 6.600e-04\n",
            "   1.400e-04 3.000e-05 0.000e+00]\n",
            "  [0.000e+00 1.400e-04 7.400e-04 2.890e-03 5.430e-03 5.360e-03 2.740e-03\n",
            "   7.300e-04 6.000e-05 3.000e-05]\n",
            "  [3.000e-05 2.500e-04 1.910e-03 5.540e-03 1.099e-02 1.046e-02 4.990e-03\n",
            "   1.390e-03 1.400e-04 0.000e+00]\n",
            "  [4.000e-05 1.900e-04 1.590e-03 6.130e-03 1.023e-02 1.017e-02 4.770e-03\n",
            "   1.170e-03 9.000e-05 0.000e+00]\n",
            "  [0.000e+00 1.400e-04 9.700e-04 2.630e-03 4.810e-03 5.030e-03 2.200e-03\n",
            "   5.800e-04 6.000e-05 2.000e-05]\n",
            "  [0.000e+00 4.000e-05 1.300e-04 5.800e-04 1.070e-03 1.010e-03 6.200e-04\n",
            "   5.000e-05 1.000e-05 0.000e+00]\n",
            "  [0.000e+00 0.000e+00 1.000e-05 6.000e-05 9.000e-05 1.100e-04 3.000e-05\n",
            "   0.000e+00 0.000e+00 0.000e+00]\n",
            "  [0.000e+00 0.000e+00 1.000e-05 0.000e+00 1.000e-05 2.000e-05 0.000e+00\n",
            "   0.000e+00 0.000e+00 0.000e+00]]\n",
            "\n",
            " [[0.000e+00 0.000e+00 0.000e+00 0.000e+00 4.000e-05 2.000e-05 0.000e+00\n",
            "   0.000e+00 0.000e+00 0.000e+00]\n",
            "  [0.000e+00 1.000e-05 7.000e-05 1.200e-04 2.800e-04 2.900e-04 1.500e-04\n",
            "   1.000e-05 1.000e-05 0.000e+00]\n",
            "  [0.000e+00 9.000e-05 5.200e-04 1.850e-03 3.150e-03 2.690e-03 1.650e-03\n",
            "   3.400e-04 6.000e-05 0.000e+00]\n",
            "  [3.000e-05 3.300e-04 1.950e-03 6.460e-03 1.284e-02 1.220e-02 6.530e-03\n",
            "   1.890e-03 2.300e-04 1.000e-05]\n",
            "  [5.000e-05 6.000e-04 4.060e-03 1.413e-02 2.479e-02 2.449e-02 1.231e-02\n",
            "   2.790e-03 4.200e-04 6.000e-05]\n",
            "  [4.000e-05 5.100e-04 4.130e-03 1.277e-02 2.498e-02 2.376e-02 1.222e-02\n",
            "   3.030e-03 4.100e-04 4.000e-05]\n",
            "  [1.000e-05 2.900e-04 1.680e-03 5.900e-03 1.087e-02 1.023e-02 5.410e-03\n",
            "   1.340e-03 1.900e-04 2.000e-05]\n",
            "  [2.000e-05 6.000e-05 2.900e-04 1.440e-03 2.130e-03 2.210e-03 1.160e-03\n",
            "   2.500e-04 4.000e-05 1.000e-05]\n",
            "  [0.000e+00 0.000e+00 8.000e-05 1.500e-04 2.200e-04 1.600e-04 2.200e-04\n",
            "   5.000e-05 0.000e+00 0.000e+00]\n",
            "  [0.000e+00 0.000e+00 0.000e+00 0.000e+00 1.000e-05 0.000e+00 2.000e-05\n",
            "   0.000e+00 0.000e+00 0.000e+00]]\n",
            "\n",
            " [[0.000e+00 0.000e+00 1.000e-05 0.000e+00 1.000e-05 1.000e-05 0.000e+00\n",
            "   0.000e+00 0.000e+00 0.000e+00]\n",
            "  [0.000e+00 0.000e+00 7.000e-05 2.500e-04 3.600e-04 4.000e-04 1.400e-04\n",
            "   1.000e-04 0.000e+00 0.000e+00]\n",
            "  [0.000e+00 6.000e-05 5.000e-04 1.880e-03 3.840e-03 3.400e-03 1.900e-03\n",
            "   4.900e-04 6.000e-05 1.000e-05]\n",
            "  [2.000e-05 3.900e-04 2.180e-03 8.620e-03 1.535e-02 1.487e-02 7.230e-03\n",
            "   1.880e-03 3.000e-04 3.000e-05]\n",
            "  [2.000e-05 6.000e-04 4.870e-03 1.576e-02 3.144e-02 2.965e-02 1.473e-02\n",
            "   4.030e-03 6.400e-04 2.000e-05]\n",
            "  [4.000e-05 8.200e-04 4.550e-03 1.685e-02 2.914e-02 2.796e-02 1.378e-02\n",
            "   3.760e-03 4.200e-04 1.000e-05]\n",
            "  [3.000e-05 3.300e-04 1.960e-03 6.580e-03 1.300e-02 1.328e-02 6.280e-03\n",
            "   1.840e-03 2.300e-04 1.000e-05]\n",
            "  [1.000e-05 9.000e-05 3.600e-04 1.590e-03 2.730e-03 2.690e-03 1.450e-03\n",
            "   2.800e-04 4.000e-05 0.000e+00]\n",
            "  [0.000e+00 1.000e-05 4.000e-05 1.400e-04 2.300e-04 3.800e-04 7.000e-05\n",
            "   8.000e-05 1.000e-05 0.000e+00]\n",
            "  [0.000e+00 0.000e+00 0.000e+00 1.000e-05 4.000e-05 0.000e+00 1.000e-05\n",
            "   0.000e+00 0.000e+00 0.000e+00]]\n",
            "\n",
            " [[0.000e+00 0.000e+00 0.000e+00 0.000e+00 2.000e-05 4.000e-05 0.000e+00\n",
            "   0.000e+00 0.000e+00 0.000e+00]\n",
            "  [0.000e+00 0.000e+00 4.000e-05 1.100e-04 3.200e-04 2.300e-04 2.300e-04\n",
            "   1.000e-05 1.000e-05 0.000e+00]\n",
            "  [0.000e+00 4.000e-05 3.700e-04 1.270e-03 2.320e-03 2.600e-03 1.020e-03\n",
            "   3.400e-04 5.000e-05 0.000e+00]\n",
            "  [1.000e-05 1.100e-04 1.470e-03 5.450e-03 9.970e-03 9.110e-03 4.750e-03\n",
            "   1.370e-03 1.500e-04 0.000e+00]\n",
            "  [3.000e-05 4.300e-04 3.190e-03 1.033e-02 1.953e-02 1.887e-02 8.910e-03\n",
            "   2.430e-03 3.500e-04 2.000e-05]\n",
            "  [3.000e-05 4.000e-04 2.920e-03 1.000e-02 1.800e-02 1.801e-02 8.700e-03\n",
            "   2.570e-03 4.100e-04 1.000e-05]\n",
            "  [0.000e+00 1.800e-04 1.220e-03 4.690e-03 8.410e-03 7.860e-03 4.430e-03\n",
            "   1.110e-03 1.500e-04 3.000e-05]\n",
            "  [0.000e+00 2.000e-05 3.100e-04 9.300e-04 1.850e-03 1.500e-03 1.010e-03\n",
            "   2.400e-04 4.000e-05 0.000e+00]\n",
            "  [0.000e+00 0.000e+00 1.000e-05 1.600e-04 1.600e-04 8.000e-05 9.000e-05\n",
            "   2.000e-05 0.000e+00 0.000e+00]\n",
            "  [0.000e+00 0.000e+00 0.000e+00 0.000e+00 1.000e-05 2.000e-05 0.000e+00\n",
            "   0.000e+00 0.000e+00 0.000e+00]]\n",
            "\n",
            " [[0.000e+00 0.000e+00 0.000e+00 1.000e-05 0.000e+00 1.000e-05 0.000e+00\n",
            "   0.000e+00 0.000e+00 0.000e+00]\n",
            "  [0.000e+00 0.000e+00 1.000e-05 7.000e-05 1.100e-04 1.200e-04 4.000e-05\n",
            "   4.000e-05 1.000e-05 0.000e+00]\n",
            "  [0.000e+00 3.000e-05 1.700e-04 3.600e-04 8.500e-04 6.400e-04 2.600e-04\n",
            "   9.000e-05 3.000e-05 0.000e+00]\n",
            "  [0.000e+00 5.000e-05 4.700e-04 1.750e-03 3.430e-03 2.950e-03 1.490e-03\n",
            "   3.800e-04 6.000e-05 0.000e+00]\n",
            "  [2.000e-05 1.700e-04 1.060e-03 3.520e-03 6.390e-03 5.720e-03 3.160e-03\n",
            "   7.600e-04 1.000e-04 0.000e+00]\n",
            "  [2.000e-05 2.000e-04 8.200e-04 2.780e-03 5.660e-03 5.710e-03 3.340e-03\n",
            "   7.500e-04 6.000e-05 3.000e-05]\n",
            "  [1.000e-05 8.000e-05 4.400e-04 1.720e-03 2.690e-03 2.510e-03 1.240e-03\n",
            "   3.400e-04 5.000e-05 1.000e-05]\n",
            "  [0.000e+00 2.000e-05 1.100e-04 3.700e-04 6.000e-04 6.700e-04 3.700e-04\n",
            "   8.000e-05 0.000e+00 0.000e+00]\n",
            "  [0.000e+00 0.000e+00 0.000e+00 6.000e-05 6.000e-05 1.100e-04 3.000e-05\n",
            "   1.000e-05 1.000e-05 0.000e+00]\n",
            "  [0.000e+00 0.000e+00 0.000e+00 1.000e-05 0.000e+00 0.000e+00 0.000e+00\n",
            "   0.000e+00 0.000e+00 0.000e+00]]\n",
            "\n",
            " [[0.000e+00 0.000e+00 0.000e+00 0.000e+00 0.000e+00 0.000e+00 0.000e+00\n",
            "   0.000e+00 0.000e+00 0.000e+00]\n",
            "  [0.000e+00 0.000e+00 0.000e+00 0.000e+00 2.000e-05 4.000e-05 1.000e-05\n",
            "   0.000e+00 0.000e+00 0.000e+00]\n",
            "  [0.000e+00 0.000e+00 3.000e-05 1.000e-04 1.200e-04 1.100e-04 9.000e-05\n",
            "   2.000e-05 0.000e+00 0.000e+00]\n",
            "  [0.000e+00 1.000e-05 9.000e-05 2.600e-04 6.500e-04 5.200e-04 1.800e-04\n",
            "   4.000e-05 2.000e-05 0.000e+00]\n",
            "  [1.000e-05 3.000e-05 1.400e-04 4.900e-04 1.090e-03 1.030e-03 5.200e-04\n",
            "   9.000e-05 0.000e+00 0.000e+00]\n",
            "  [0.000e+00 1.000e-05 1.600e-04 6.300e-04 1.100e-03 9.500e-04 4.800e-04\n",
            "   1.400e-04 0.000e+00 0.000e+00]\n",
            "  [0.000e+00 1.000e-05 5.000e-05 2.600e-04 4.200e-04 4.200e-04 3.200e-04\n",
            "   7.000e-05 1.000e-05 0.000e+00]\n",
            "  [0.000e+00 0.000e+00 2.000e-05 9.000e-05 1.000e-04 7.000e-05 7.000e-05\n",
            "   3.000e-05 0.000e+00 0.000e+00]\n",
            "  [0.000e+00 0.000e+00 0.000e+00 1.000e-05 2.000e-05 0.000e+00 1.000e-05\n",
            "   0.000e+00 0.000e+00 0.000e+00]\n",
            "  [0.000e+00 0.000e+00 0.000e+00 0.000e+00 0.000e+00 0.000e+00 0.000e+00\n",
            "   0.000e+00 0.000e+00 0.000e+00]]\n",
            "\n",
            " [[0.000e+00 0.000e+00 0.000e+00 0.000e+00 0.000e+00 0.000e+00 0.000e+00\n",
            "   0.000e+00 0.000e+00 0.000e+00]\n",
            "  [0.000e+00 0.000e+00 0.000e+00 0.000e+00 0.000e+00 0.000e+00 0.000e+00\n",
            "   0.000e+00 0.000e+00 0.000e+00]\n",
            "  [0.000e+00 0.000e+00 0.000e+00 0.000e+00 3.000e-05 2.000e-05 1.000e-05\n",
            "   0.000e+00 0.000e+00 0.000e+00]\n",
            "  [0.000e+00 0.000e+00 0.000e+00 1.000e-05 6.000e-05 3.000e-05 1.000e-05\n",
            "   1.000e-05 0.000e+00 0.000e+00]\n",
            "  [0.000e+00 0.000e+00 1.000e-05 7.000e-05 1.300e-04 1.200e-04 1.000e-05\n",
            "   0.000e+00 0.000e+00 0.000e+00]\n",
            "  [0.000e+00 0.000e+00 1.000e-05 1.000e-05 8.000e-05 7.000e-05 3.000e-05\n",
            "   1.000e-05 0.000e+00 0.000e+00]\n",
            "  [0.000e+00 0.000e+00 0.000e+00 1.000e-05 4.000e-05 3.000e-05 1.000e-05\n",
            "   0.000e+00 0.000e+00 0.000e+00]\n",
            "  [0.000e+00 0.000e+00 0.000e+00 1.000e-05 1.000e-05 2.000e-05 0.000e+00\n",
            "   0.000e+00 0.000e+00 0.000e+00]\n",
            "  [0.000e+00 0.000e+00 0.000e+00 0.000e+00 0.000e+00 0.000e+00 0.000e+00\n",
            "   0.000e+00 0.000e+00 0.000e+00]\n",
            "  [0.000e+00 0.000e+00 0.000e+00 0.000e+00 0.000e+00 0.000e+00 0.000e+00\n",
            "   0.000e+00 0.000e+00 0.000e+00]]]\n"
          ],
          "name": "stdout"
        }
      ]
    },
    {
      "cell_type": "code",
      "metadata": {
        "id": "a3i62jBMIKr0",
        "colab_type": "code",
        "colab": {
          "base_uri": "https://localhost:8080/",
          "height": 136
        },
        "outputId": "bc9aaa9e-1345-4f7c-bd5b-9a0ab2b21de9"
      },
      "source": [
        "import scipy.stats\n",
        "print(scipy.stats.norm(0, 1))\n",
        "\n",
        "print(scipy.stats.norm(0, 1).pdf(0))\n",
        "print(scipy.stats.norm(0, 1).cdf(0))\n",
        "print(scipy.stats.norm(100, 12))\n",
        "print(scipy.stats.norm(100, 12).pdf(98))\n",
        "print(scipy.stats.norm(100, 12).cdf(98))\n",
        "print(scipy.stats.norm(100, 12).cdf(100))"
      ],
      "execution_count": 18,
      "outputs": [
        {
          "output_type": "stream",
          "text": [
            "<scipy.stats._distn_infrastructure.rv_frozen object at 0x7f2f13204a58>\n",
            "0.3989422804014327\n",
            "0.5\n",
            "<scipy.stats._distn_infrastructure.rv_frozen object at 0x7f2f13204b38>\n",
            "0.032786643008494994\n",
            "0.43381616738909634\n",
            "0.5\n"
          ],
          "name": "stdout"
        }
      ]
    }
  ]
}
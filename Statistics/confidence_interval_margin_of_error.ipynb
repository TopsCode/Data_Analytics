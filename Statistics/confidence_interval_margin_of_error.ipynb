{
  "nbformat": 4,
  "nbformat_minor": 0,
  "metadata": {
    "colab": {
      "name": "confidence_interval_margin_of_error.ipynb",
      "version": "0.3.2",
      "provenance": []
    },
    "kernelspec": {
      "name": "python3",
      "display_name": "Python 3"
    }
  },
  "cells": [
    {
      "cell_type": "code",
      "metadata": {
        "id": "qE_pk1w3Luqb",
        "colab_type": "code",
        "colab": {
          "base_uri": "https://localhost:8080/",
          "height": 119
        },
        "outputId": "c99b445c-c0a4-4963-879c-b303182fda1d"
      },
      "source": [
        "import numpy as np\n",
        "import scipy.stats as stats\n",
        "import math\n",
        "\n",
        "np.random.seed(10)\n",
        "population_ages1 = stats.poisson.rvs(loc=18, mu=35, size=150000)\n",
        "population_ages2 = stats.poisson.rvs(loc=18, mu=10, size=100000)\n",
        "population_ages = np.concatenate((population_ages1, population_ages2))\n",
        "\n",
        "sample_size = 1000\n",
        "sample = np.random.choice(a= population_ages, size = sample_size)\n",
        "sample_mean = sample.mean()\n",
        "z_critical = stats.norm.ppf(q = 0.975)  # Get the z-critical value*\n",
        "print(\"z-critical value:\")              # Check the z-critical value\n",
        "print(z_critical)                        \n",
        "\n",
        "pop_stdev = population_ages.std()  # Get the population standard deviation\n",
        "margin_of_error = z_critical * (pop_stdev/math.sqrt(sample_size))\n",
        "\n",
        "print(\"Margin of Error:\")\n",
        "print(margin_of_error)\n",
        "\n",
        "confidence_interval = (sample_mean - margin_of_error,\n",
        "                       sample_mean + margin_of_error)  \n",
        "\n",
        "print(\"Confidence interval:\")\n",
        "print(confidence_interval)"
      ],
      "execution_count": 3,
      "outputs": [
        {
          "output_type": "stream",
          "text": [
            "z-critical value:\n",
            "1.959963984540054\n",
            "Margin of Error:\n",
            "0.8199359311731705\n",
            "Confidence interval:\n",
            "(42.39706406882683, 44.03693593117317)\n"
          ],
          "name": "stdout"
        }
      ]
    }
  ]
}